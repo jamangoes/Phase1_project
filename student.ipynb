{
 "cells": [
  {
   "cell_type": "markdown",
   "metadata": {},
   "source": [
    "# Final Project Submission\n",
    "\n",
    "Please fill out:\n",
    "* Student name: Jamald O. Aquino\n",
    "* Student pace: self paced\n",
    "* Scheduled project review date/time: August 26 9am\n",
    "* Instructor name: Joe Comeaux\n",
    "* Blog post URL:https://medium.com/@jamaldaquino\n"
   ]
  },
  {
   "cell_type": "markdown",
   "metadata": {},
   "source": [
    "# Next Box Office Hit Analysis"
   ]
  },
  {
   "attachments": {
    "boxofficeimage.jfif": {
     "image/jpeg": "[encoded data removed]"
    }
   },
   "cell_type": "markdown",
   "metadata": {},
   "source": [
    "![boxofficeimage.jfif](attachment:boxofficeimage.jfif)"
   ]
  },
  {
   "cell_type": "markdown",
   "metadata": {},
   "source": [
    "## Overview"
   ]
  },
  {
   "cell_type": "markdown",
   "metadata": {},
   "source": [
    "This project analyzes the top fifty most lucrative films in the past five years. In order for Microsoft to enter the film industry successfully, analysis of several film databases were done in search for current and ongoing trends of the most successful films. Analysis shows that popular genres like 'Horror', 'Thriller', and 'Drama' do most successful at the box office, with a recommended release date in the month of July or October. Production budgets  range between 3.5 million US dollars and 12 million dollars."
   ]
  },
  {
   "cell_type": "markdown",
   "metadata": {},
   "source": [
    "## Business Problem"
   ]
  },
  {
   "cell_type": "markdown",
   "metadata": {},
   "source": [
    "Microsoft is looking to create its own original video content, and have decided to enter the film industry. Microsoft does not know anything about creating movies. Knowing the genre, how much of a budget to allocate, and what time of the year to release a film could help Microsoft be equally successful as the current film industry giants."
   ]
  },
  {
   "cell_type": "markdown",
   "metadata": {},
   "source": [
    "## Data"
   ]
  },
  {
   "cell_type": "markdown",
   "metadata": {},
   "source": [
    "The data used was taken from two different websites: The Numbers and TheMovieDB. Both databases are stored in 'csv' format. The Numbers database contains the production budgets, domestic gross, and worldwide gross of several films, while TheMovieDB database contains the films' genres, and both contain the release dates of the films."
   ]
  },
  {
   "cell_type": "markdown",
   "metadata": {},
   "source": [
    "### Investigating and Cleaning the Data"
   ]
  },
  {
   "cell_type": "code",
   "execution_count": 1,
   "metadata": {},
   "outputs": [],
   "source": [
    "#import necessary packages\n",
    "import pandas as pd\n",
    "import numpy as np\n",
    "import matplotlib.pyplot as plt\n",
    "import seaborn as sns\n",
    "import requests"
   ]
  },
  {
   "cell_type": "code",
   "execution_count": 2,
   "metadata": {},
   "outputs": [],
   "source": [
    "#Connect to necessary databases\n",
    "movie_budgets_df = pd.read_csv('zippedData/tn.movie_budgets.csv.gz')\n",
    "movie_info_df = pd.read_csv('zippedData/tmdb.movies.csv.gz')"
   ]
  },
  {
   "cell_type": "markdown",
   "metadata": {},
   "source": [
    "#### 1. Data Acquired from The Numbers"
   ]
  },
  {
   "cell_type": "markdown",
   "metadata": {},
   "source": [
    "This database is useful for calculating the return of investment on the films by using the columns __['production_budget],  ['domestic_gross'], ['worldwide_gross']__. \n",
    "                                                                                                       \n",
    "Aside from calculating the return of investment, using the column __['release_date']__ would be useful in investigating the\n",
    "trends of an ideal time of the year to release a movie. "
   ]
  },
  {
   "cell_type": "code",
   "execution_count": 3,
   "metadata": {
    "scrolled": true
   },
   "outputs": [
    {
     "name": "stdout",
     "output_type": "stream",
     "text": [
      "<class 'pandas.core.frame.DataFrame'>\n",
      "RangeIndex: 5782 entries, 0 to 5781\n",
      "Data columns (total 6 columns):\n",
      " #   Column             Non-Null Count  Dtype \n",
      "---  ------             --------------  ----- \n",
      " 0   id                 5782 non-null   int64 \n",
      " 1   release_date       5782 non-null   object\n",
      " 2   movie              5782 non-null   object\n",
      " 3   production_budget  5782 non-null   object\n",
      " 4   domestic_gross     5782 non-null   object\n",
      " 5   worldwide_gross    5782 non-null   object\n",
      "dtypes: int64(1), object(5)\n",
      "memory usage: 271.2+ KB\n"
     ]
    },
    {
     "data": {
      "text/html": [
       "<div>\n",
       "<style scoped>\n",
       "    .dataframe tbody tr th:only-of-type {\n",
       "        vertical-align: middle;\n",
       "    }\n",
       "\n",
       "    .dataframe tbody tr th {\n",
       "        vertical-align: top;\n",
       "    }\n",
       "\n",
       "    .dataframe thead th {\n",
       "        text-align: right;\n",
       "    }\n",
       "</style>\n",
       "<table border=\"1\" class=\"dataframe\">\n",
       "  <thead>\n",
       "    <tr style=\"text-align: right;\">\n",
       "      <th></th>\n",
       "      <th>id</th>\n",
       "      <th>release_date</th>\n",
       "      <th>movie</th>\n",
       "      <th>production_budget</th>\n",
       "      <th>domestic_gross</th>\n",
       "      <th>worldwide_gross</th>\n",
       "    </tr>\n",
       "  </thead>\n",
       "  <tbody>\n",
       "    <tr>\n",
       "      <th>0</th>\n",
       "      <td>1</td>\n",
       "      <td>Dec 18, 2009</td>\n",
       "      <td>Avatar</td>\n",
       "      <td>$425,000,000</td>\n",
       "      <td>$760,507,625</td>\n",
       "      <td>$2,776,345,279</td>\n",
       "    </tr>\n",
       "    <tr>\n",
       "      <th>1</th>\n",
       "      <td>2</td>\n",
       "      <td>May 20, 2011</td>\n",
       "      <td>Pirates of the Caribbean: On Stranger Tides</td>\n",
       "      <td>$410,600,000</td>\n",
       "      <td>$241,063,875</td>\n",
       "      <td>$1,045,663,875</td>\n",
       "    </tr>\n",
       "    <tr>\n",
       "      <th>2</th>\n",
       "      <td>3</td>\n",
       "      <td>Jun 7, 2019</td>\n",
       "      <td>Dark Phoenix</td>\n",
       "      <td>$350,000,000</td>\n",
       "      <td>$42,762,350</td>\n",
       "      <td>$149,762,350</td>\n",
       "    </tr>\n",
       "    <tr>\n",
       "      <th>3</th>\n",
       "      <td>4</td>\n",
       "      <td>May 1, 2015</td>\n",
       "      <td>Avengers: Age of Ultron</td>\n",
       "      <td>$330,600,000</td>\n",
       "      <td>$459,005,868</td>\n",
       "      <td>$1,403,013,963</td>\n",
       "    </tr>\n",
       "    <tr>\n",
       "      <th>4</th>\n",
       "      <td>5</td>\n",
       "      <td>Dec 15, 2017</td>\n",
       "      <td>Star Wars Ep. VIII: The Last Jedi</td>\n",
       "      <td>$317,000,000</td>\n",
       "      <td>$620,181,382</td>\n",
       "      <td>$1,316,721,747</td>\n",
       "    </tr>\n",
       "  </tbody>\n",
       "</table>\n",
       "</div>"
      ],
      "text/plain": [
       "   id  release_date                                        movie  \\\n",
       "0   1  Dec 18, 2009                                       Avatar   \n",
       "1   2  May 20, 2011  Pirates of the Caribbean: On Stranger Tides   \n",
       "2   3   Jun 7, 2019                                 Dark Phoenix   \n",
       "3   4   May 1, 2015                      Avengers: Age of Ultron   \n",
       "4   5  Dec 15, 2017            Star Wars Ep. VIII: The Last Jedi   \n",
       "\n",
       "  production_budget domestic_gross worldwide_gross  \n",
       "0      $425,000,000   $760,507,625  $2,776,345,279  \n",
       "1      $410,600,000   $241,063,875  $1,045,663,875  \n",
       "2      $350,000,000    $42,762,350    $149,762,350  \n",
       "3      $330,600,000   $459,005,868  $1,403,013,963  \n",
       "4      $317,000,000   $620,181,382  $1,316,721,747  "
      ]
     },
     "execution_count": 3,
     "metadata": {},
     "output_type": "execute_result"
    }
   ],
   "source": [
    "movie_budgets_df.info()\n",
    "movie_budgets_df.head()"
   ]
  },
  {
   "cell_type": "markdown",
   "metadata": {},
   "source": [
    "Because __['production_budget],  ['domestic_gross'], ['worldwide_gross']__ columns are object data, these will need to be converted to 'int64' in order to successfully use these columns to compute the return of investment and future calculations requiring the data be set to 'int64.'\n",
    "The __['release_date']__ column is also an object data, which will need to be converted later to 'datetime64[ns].'"
   ]
  },
  {
   "cell_type": "code",
   "execution_count": 4,
   "metadata": {},
   "outputs": [],
   "source": [
    "#Change the data type of production_budget, domestic_gross, worldwide_gross\n",
    "def change_to_int64(object_data):\n",
    "    object_data1 = object_data.str.replace(\"$\",\"\")\n",
    "    object_data2 = object_data1.str.replace(\",\",\"\")\n",
    "    object_data3 = object_data2.astype('int64')\n",
    "    return object_data3"
   ]
  },
  {
   "cell_type": "code",
   "execution_count": 5,
   "metadata": {
    "scrolled": true
   },
   "outputs": [],
   "source": [
    "#Making these changes in place\n",
    "movie_budgets_df['production_budget'] = change_to_int64(movie_budgets_df['production_budget'])\n",
    "movie_budgets_df['domestic_gross'] = change_to_int64(movie_budgets_df['domestic_gross'])\n",
    "movie_budgets_df['worldwide_gross'] = change_to_int64(movie_budgets_df['worldwide_gross'])"
   ]
  },
  {
   "cell_type": "markdown",
   "metadata": {},
   "source": [
    "When checking for duplicates, we must double check for revivals, where movies will have the same name but different release dates.Therefore, it is necessary to use a subset of __['movie','release_date']__ when checking for duplicates."
   ]
  },
  {
   "cell_type": "code",
   "execution_count": 6,
   "metadata": {
    "scrolled": false
   },
   "outputs": [
    {
     "data": {
      "text/plain": [
       "False    5782\n",
       "dtype: int64"
      ]
     },
     "execution_count": 6,
     "metadata": {},
     "output_type": "execute_result"
    }
   ],
   "source": [
    "#Check for duplicates with subset=['movie','release_date']\n",
    "movie_budgets_df.duplicated(subset=['movie','release_date']).value_counts()"
   ]
  },
  {
   "cell_type": "code",
   "execution_count": 7,
   "metadata": {
    "scrolled": true
   },
   "outputs": [
    {
     "data": {
      "text/plain": [
       "id                   0\n",
       "release_date         0\n",
       "movie                0\n",
       "production_budget    0\n",
       "domestic_gross       0\n",
       "worldwide_gross      0\n",
       "dtype: int64"
      ]
     },
     "execution_count": 7,
     "metadata": {},
     "output_type": "execute_result"
    }
   ],
   "source": [
    "#Check for null values\n",
    "movie_budgets_df.isna().sum()"
   ]
  },
  {
   "cell_type": "markdown",
   "metadata": {},
   "source": [
    "#### 2. Data Acquired from TheMovieDB"
   ]
  },
  {
   "cell_type": "code",
   "execution_count": 8,
   "metadata": {
    "scrolled": true
   },
   "outputs": [
    {
     "name": "stdout",
     "output_type": "stream",
     "text": [
      "<class 'pandas.core.frame.DataFrame'>\n",
      "RangeIndex: 26517 entries, 0 to 26516\n",
      "Data columns (total 10 columns):\n",
      " #   Column             Non-Null Count  Dtype  \n",
      "---  ------             --------------  -----  \n",
      " 0   Unnamed: 0         26517 non-null  int64  \n",
      " 1   genre_ids          26517 non-null  object \n",
      " 2   id                 26517 non-null  int64  \n",
      " 3   original_language  26517 non-null  object \n",
      " 4   original_title     26517 non-null  object \n",
      " 5   popularity         26517 non-null  float64\n",
      " 6   release_date       26517 non-null  object \n",
      " 7   title              26517 non-null  object \n",
      " 8   vote_average       26517 non-null  float64\n",
      " 9   vote_count         26517 non-null  int64  \n",
      "dtypes: float64(2), int64(3), object(5)\n",
      "memory usage: 2.0+ MB\n"
     ]
    },
    {
     "data": {
      "text/html": [
       "<div>\n",
       "<style scoped>\n",
       "    .dataframe tbody tr th:only-of-type {\n",
       "        vertical-align: middle;\n",
       "    }\n",
       "\n",
       "    .dataframe tbody tr th {\n",
       "        vertical-align: top;\n",
       "    }\n",
       "\n",
       "    .dataframe thead th {\n",
       "        text-align: right;\n",
       "    }\n",
       "</style>\n",
       "<table border=\"1\" class=\"dataframe\">\n",
       "  <thead>\n",
       "    <tr style=\"text-align: right;\">\n",
       "      <th></th>\n",
       "      <th>Unnamed: 0</th>\n",
       "      <th>genre_ids</th>\n",
       "      <th>id</th>\n",
       "      <th>original_language</th>\n",
       "      <th>original_title</th>\n",
       "      <th>popularity</th>\n",
       "      <th>release_date</th>\n",
       "      <th>title</th>\n",
       "      <th>vote_average</th>\n",
       "      <th>vote_count</th>\n",
       "    </tr>\n",
       "  </thead>\n",
       "  <tbody>\n",
       "    <tr>\n",
       "      <th>0</th>\n",
       "      <td>0</td>\n",
       "      <td>[12, 14, 10751]</td>\n",
       "      <td>12444</td>\n",
       "      <td>en</td>\n",
       "      <td>Harry Potter and the Deathly Hallows: Part 1</td>\n",
       "      <td>33.533</td>\n",
       "      <td>2010-11-19</td>\n",
       "      <td>Harry Potter and the Deathly Hallows: Part 1</td>\n",
       "      <td>7.7</td>\n",
       "      <td>10788</td>\n",
       "    </tr>\n",
       "    <tr>\n",
       "      <th>1</th>\n",
       "      <td>1</td>\n",
       "      <td>[14, 12, 16, 10751]</td>\n",
       "      <td>10191</td>\n",
       "      <td>en</td>\n",
       "      <td>How to Train Your Dragon</td>\n",
       "      <td>28.734</td>\n",
       "      <td>2010-03-26</td>\n",
       "      <td>How to Train Your Dragon</td>\n",
       "      <td>7.7</td>\n",
       "      <td>7610</td>\n",
       "    </tr>\n",
       "    <tr>\n",
       "      <th>2</th>\n",
       "      <td>2</td>\n",
       "      <td>[12, 28, 878]</td>\n",
       "      <td>10138</td>\n",
       "      <td>en</td>\n",
       "      <td>Iron Man 2</td>\n",
       "      <td>28.515</td>\n",
       "      <td>2010-05-07</td>\n",
       "      <td>Iron Man 2</td>\n",
       "      <td>6.8</td>\n",
       "      <td>12368</td>\n",
       "    </tr>\n",
       "    <tr>\n",
       "      <th>3</th>\n",
       "      <td>3</td>\n",
       "      <td>[16, 35, 10751]</td>\n",
       "      <td>862</td>\n",
       "      <td>en</td>\n",
       "      <td>Toy Story</td>\n",
       "      <td>28.005</td>\n",
       "      <td>1995-11-22</td>\n",
       "      <td>Toy Story</td>\n",
       "      <td>7.9</td>\n",
       "      <td>10174</td>\n",
       "    </tr>\n",
       "    <tr>\n",
       "      <th>4</th>\n",
       "      <td>4</td>\n",
       "      <td>[28, 878, 12]</td>\n",
       "      <td>27205</td>\n",
       "      <td>en</td>\n",
       "      <td>Inception</td>\n",
       "      <td>27.920</td>\n",
       "      <td>2010-07-16</td>\n",
       "      <td>Inception</td>\n",
       "      <td>8.3</td>\n",
       "      <td>22186</td>\n",
       "    </tr>\n",
       "  </tbody>\n",
       "</table>\n",
       "</div>"
      ],
      "text/plain": [
       "   Unnamed: 0            genre_ids     id original_language  \\\n",
       "0           0      [12, 14, 10751]  12444                en   \n",
       "1           1  [14, 12, 16, 10751]  10191                en   \n",
       "2           2        [12, 28, 878]  10138                en   \n",
       "3           3      [16, 35, 10751]    862                en   \n",
       "4           4        [28, 878, 12]  27205                en   \n",
       "\n",
       "                                 original_title  popularity release_date  \\\n",
       "0  Harry Potter and the Deathly Hallows: Part 1      33.533   2010-11-19   \n",
       "1                      How to Train Your Dragon      28.734   2010-03-26   \n",
       "2                                    Iron Man 2      28.515   2010-05-07   \n",
       "3                                     Toy Story      28.005   1995-11-22   \n",
       "4                                     Inception      27.920   2010-07-16   \n",
       "\n",
       "                                          title  vote_average  vote_count  \n",
       "0  Harry Potter and the Deathly Hallows: Part 1           7.7       10788  \n",
       "1                      How to Train Your Dragon           7.7        7610  \n",
       "2                                    Iron Man 2           6.8       12368  \n",
       "3                                     Toy Story           7.9       10174  \n",
       "4                                     Inception           8.3       22186  "
      ]
     },
     "execution_count": 8,
     "metadata": {},
     "output_type": "execute_result"
    }
   ],
   "source": [
    "movie_info_df.info()\n",
    "movie_info_df.head()"
   ]
  },
  {
   "cell_type": "markdown",
   "metadata": {},
   "source": [
    "It is most beneficial to use TheMovieDB database by using the column __['genre_ids']__. By using __['genre_ids']__, we are able to see which genre is the most successful at the box office. But before this data can be utilized, we must acquire additional data on what each genre ID means. We will do this by using an API call to the TheMovieDB website. We then, can check the response of the call and if the response is 200, we are granted access to the genre ID data."
   ]
  },
  {
   "cell_type": "code",
   "execution_count": 9,
   "metadata": {},
   "outputs": [],
   "source": [
    "#Establish a get request from TheMovieDB\n",
    "url = 'https://api.themoviedb.org/3/genre/movie/list?api_key=49499f6b5be5140bcd4250219a7f5f1e&language=en-US'\n",
    "API_response = requests.get(url)"
   ]
  },
  {
   "cell_type": "code",
   "execution_count": 10,
   "metadata": {
    "scrolled": true
   },
   "outputs": [
    {
     "data": {
      "text/plain": [
       "200"
      ]
     },
     "execution_count": 10,
     "metadata": {},
     "output_type": "execute_result"
    }
   ],
   "source": [
    "#Check API response\n",
    "API_response.status_code"
   ]
  },
  {
   "cell_type": "code",
   "execution_count": 11,
   "metadata": {
    "scrolled": true
   },
   "outputs": [
    {
     "data": {
      "text/plain": [
       "b'{\"genres\":[{\"id\":28,\"name\":\"Action\"},{\"id\":12,\"name\":\"Adventure\"},{\"id\":16,\"name\":\"Animation\"},{\"id\":35,\"name\":\"Comedy\"},{\"id\":80,\"name\":\"Crime\"},{\"id\":99,\"name\":\"Documentary\"},{\"id\":18,\"name\":\"Drama\"},{\"id\":10751,\"name\":\"Family\"},{\"id\":14,\"name\":\"Fantasy\"},{\"id\":36,\"name\":\"History\"},{\"id\":27,\"name\":\"Horror\"},{\"id\":10402,\"name\":\"Music\"},{\"id\":9648,\"name\":\"Mystery\"},{\"id\":10749,\"name\":\"Romance\"},{\"id\":878,\"name\":\"Science Fiction\"},{\"id\":10770,\"name\":\"TV Movie\"},{\"id\":53,\"name\":\"Thriller\"},{\"id\":10752,\"name\":\"War\"},{\"id\":37,\"name\":\"Western\"}]}'"
      ]
     },
     "execution_count": 11,
     "metadata": {},
     "output_type": "execute_result"
    }
   ],
   "source": [
    "#Retrieve genre information\n",
    "API_response.content"
   ]
  },
  {
   "cell_type": "code",
   "execution_count": 12,
   "metadata": {},
   "outputs": [],
   "source": [
    "#Change genre ID to appropriate genre category\n",
    "genre_labels = {\n",
    "    \"28\": \"Action\",\n",
    "    \"12\": \"Adventure\",\n",
    "    \"16\": \"Animation\",\n",
    "    \"35\": \"Comedy\",\n",
    "    \"80\": \"Crime\",\n",
    "    \"99\": \"Documentary\",\n",
    "    \"18\": \"Drama\",\n",
    "    \"10751\": \"Family\",\n",
    "    \"14\": \"Fantasy\",\n",
    "    \"36\": \"History\",\n",
    "    \"27\": \"Horror\",\n",
    "    \"10402\": \"Music\",\n",
    "    \"9648\": \"Mystery\",\n",
    "    \"10749\": \"Romance\",\n",
    "    \"878\": \"Science Fiction\",\n",
    "    \"10770\": \"TV Movie\",\n",
    "    \"53\": \"Thriller\",\n",
    "    \"10752\": \"War\",\n",
    "    \"37\": \"Western\"\n",
    "}"
   ]
  },
  {
   "cell_type": "code",
   "execution_count": 13,
   "metadata": {
    "scrolled": false
   },
   "outputs": [
    {
     "data": {
      "text/plain": [
       "0               [Adventure, Fantasy, Family]\n",
       "1    [Fantasy, Adventure, Animation, Family]\n",
       "2       [Adventure, Action, Science Fiction]\n",
       "3                [Animation, Comedy, Family]\n",
       "4       [Action, Science Fiction, Adventure]\n",
       "Name: genre_ids, dtype: object"
      ]
     },
     "execution_count": 13,
     "metadata": {},
     "output_type": "execute_result"
    }
   ],
   "source": [
    "#Replacing the genre ID's with respective label\n",
    "movie_info_df['genre_ids'] = movie_info_df['genre_ids'].replace(genre_labels, regex=True)\n",
    "movie_info_df['genre_ids'].head()"
   ]
  },
  {
   "cell_type": "markdown",
   "metadata": {},
   "source": [
    "Renaming the column __['genre_ids']__ to __['genre_labels']__ for better readability, and removing columns that will not be pertinent to our business problem."
   ]
  },
  {
   "cell_type": "code",
   "execution_count": 14,
   "metadata": {},
   "outputs": [],
   "source": [
    "#Rename column ['genre_ids']\n",
    "movie_info_df.rename(columns={'genre_ids' : 'genre_labels'}, inplace=True)"
   ]
  },
  {
   "cell_type": "code",
   "execution_count": 15,
   "metadata": {
    "scrolled": true
   },
   "outputs": [],
   "source": [
    "#Delete unnecessary columns\n",
    "movie_info_df = movie_info_df.drop(['Unnamed: 0', 'original_language','id', 'original_title', 'vote_average','vote_count', 'popularity'], axis=1)"
   ]
  },
  {
   "cell_type": "code",
   "execution_count": 16,
   "metadata": {},
   "outputs": [
    {
     "data": {
      "text/plain": [
       "False    25490\n",
       "True      1027\n",
       "dtype: int64"
      ]
     },
     "execution_count": 16,
     "metadata": {},
     "output_type": "execute_result"
    }
   ],
   "source": [
    "#Again, checking for duplicates making sure we do not rule out revivals, or movies with the same name.\n",
    "movie_info_df.duplicated(subset=['title','release_date']).value_counts()"
   ]
  },
  {
   "cell_type": "code",
   "execution_count": 17,
   "metadata": {},
   "outputs": [],
   "source": [
    "#Removing duplicate rows\n",
    "movie_info_df.drop_duplicates(subset=['title','release_date'], keep='first', inplace=True)"
   ]
  },
  {
   "cell_type": "markdown",
   "metadata": {},
   "source": [
    "#### Merge the TheMovieDB and The Numbers Databases\n"
   ]
  },
  {
   "cell_type": "markdown",
   "metadata": {},
   "source": [
    "We will be merging the two bases on two columns: __['movie']__ and __['release_date']__. Again, we want both of these conditions to match because of the possible rule out of revivals and movies with the same name but different genres. We must first make sure that both columns are the same data type and have the same respective column names. "
   ]
  },
  {
   "cell_type": "code",
   "execution_count": 18,
   "metadata": {
    "scrolled": true
   },
   "outputs": [],
   "source": [
    "#Rename column ['title'] from TheMovieDB to ['movie'] to match The Numbers dataframe\n",
    "movie_info_df.rename(columns={'title' : 'movie'}, inplace=True)"
   ]
  },
  {
   "cell_type": "code",
   "execution_count": 19,
   "metadata": {},
   "outputs": [],
   "source": [
    "#Changing the type of data of both columns ['release_date'] \n",
    "movie_budgets_df['release_date']= pd.to_datetime(movie_budgets_df['release_date'])\n",
    "movie_info_df['release_date']= pd.to_datetime(movie_info_df['release_date'])"
   ]
  },
  {
   "cell_type": "code",
   "execution_count": 20,
   "metadata": {},
   "outputs": [],
   "source": [
    "#Merging both dataframes\n",
    "merged_movie_df = movie_budgets_df.merge(movie_info_df, on=['movie', 'release_date'], how = 'left')"
   ]
  },
  {
   "cell_type": "markdown",
   "metadata": {},
   "source": [
    "From here, we will form a __['return_of_investment']__ column which we will use to find out the highest return of investment by percentage. We do this by dividing the _net profit_(subtracting production budget from total gross) by the _production budget_, and multiplying this value by 100."
   ]
  },
  {
   "cell_type": "code",
   "execution_count": 21,
   "metadata": {},
   "outputs": [],
   "source": [
    "#Creating variables for better readability\n",
    "total_gross = merged_movie_df['domestic_gross']+merged_movie_df['worldwide_gross']\n",
    "net_profit = total_gross - merged_movie_df['production_budget']\n",
    "production_budget = merged_movie_df['production_budget']"
   ]
  },
  {
   "cell_type": "code",
   "execution_count": 22,
   "metadata": {},
   "outputs": [],
   "source": [
    "merged_movie_df['net_profit'] = net_profit"
   ]
  },
  {
   "cell_type": "code",
   "execution_count": 23,
   "metadata": {
    "scrolled": true
   },
   "outputs": [],
   "source": [
    "#Create column for return of investment\n",
    "merged_movie_df['return_of_investment']= (net_profit/production_budget)*100"
   ]
  },
  {
   "cell_type": "code",
   "execution_count": 24,
   "metadata": {},
   "outputs": [
    {
     "name": "stdout",
     "output_type": "stream",
     "text": [
      "<class 'pandas.core.frame.DataFrame'>\n",
      "Int64Index: 5782 entries, 0 to 5781\n",
      "Data columns (total 9 columns):\n",
      " #   Column                Non-Null Count  Dtype         \n",
      "---  ------                --------------  -----         \n",
      " 0   id                    5782 non-null   int64         \n",
      " 1   release_date          5782 non-null   datetime64[ns]\n",
      " 2   movie                 5782 non-null   object        \n",
      " 3   production_budget     5782 non-null   int64         \n",
      " 4   domestic_gross        5782 non-null   int64         \n",
      " 5   worldwide_gross       5782 non-null   int64         \n",
      " 6   genre_labels          1270 non-null   object        \n",
      " 7   net_profit            5782 non-null   int64         \n",
      " 8   return_of_investment  5782 non-null   float64       \n",
      "dtypes: datetime64[ns](1), float64(1), int64(5), object(2)\n",
      "memory usage: 451.7+ KB\n"
     ]
    }
   ],
   "source": [
    "merged_movie_df.info()"
   ]
  },
  {
   "cell_type": "markdown",
   "metadata": {},
   "source": [
    "Dropping null values from the column __['genre_labels']__ would not be conducive to the overall data because the other values in the rows are important metrics as well. What we will be doing is ignoring these values when using data from the column __['genre_labels']__ when finding trends."
   ]
  },
  {
   "cell_type": "markdown",
   "metadata": {},
   "source": [
    "The current, general population are watching completely different movies compared to what the general population was watching twenty, even ten years ago. To keep the data more current, we will be analyzing data from the last five years, specifically from May 31, 2014 to May 31, 2019. We do this by setting conditions on the __['release_date']__ column and making a completely different dataframe."
   ]
  },
  {
   "cell_type": "code",
   "execution_count": 25,
   "metadata": {},
   "outputs": [],
   "source": [
    "merged_movie_df1 = merged_movie_df[merged_movie_df.release_date > '2014-05-31']"
   ]
  },
  {
   "cell_type": "markdown",
   "metadata": {},
   "source": [
    "Because we are looking for top performing movies at the box office, we will be looking at the top 50 movies with highest return of investment percentage. We will make a separate dataframe that only has the the top fifty films with the highest return of investment."
   ]
  },
  {
   "cell_type": "code",
   "execution_count": 26,
   "metadata": {},
   "outputs": [],
   "source": [
    "merged_ROI_df = merged_movie_df1.sort_values(by='return_of_investment', ascending=False)[:50]"
   ]
  },
  {
   "cell_type": "code",
   "execution_count": 27,
   "metadata": {},
   "outputs": [],
   "source": [
    "merged_netprofit_df = merged_movie_df1.sort_values(by='net_profit', ascending=False)[:50]"
   ]
  },
  {
   "cell_type": "markdown",
   "metadata": {},
   "source": [
    "### Analyzing the Data"
   ]
  },
  {
   "cell_type": "markdown",
   "metadata": {},
   "source": [
    "First, using both databases, we will analyze the column __['production_budget']__ from the merged_ROI_df to give us an idea of what to set the production budget. By finding the mean, 25, 50, 75  percentile, these values give us an idea of how much money to allocate for budget for a film to be successful."
   ]
  },
  {
   "cell_type": "code",
   "execution_count": 28,
   "metadata": {
    "scrolled": false
   },
   "outputs": [
    {
     "name": "stdout",
     "output_type": "stream",
     "text": [
      "count    5.000000e+01\n",
      "mean     1.183750e+07\n",
      "std      1.584641e+07\n",
      "min      2.500000e+04\n",
      "25%      3.500000e+06\n",
      "50%      5.000000e+06\n",
      "75%      1.200000e+07\n",
      "max      7.400000e+07\n",
      "Name: production_budget, dtype: float64\n"
     ]
    }
   ],
   "source": [
    "print(merged_ROI_df['production_budget'].describe())"
   ]
  },
  {
   "cell_type": "markdown",
   "metadata": {},
   "source": [
    "According to the data, a successful box office hit would have a production budget anywhere between 3.5 million dollars and 12 million dollars with the mean production budget being around 12 million dollars and the median being 5 million dollars."
   ]
  },
  {
   "cell_type": "code",
   "execution_count": 29,
   "metadata": {},
   "outputs": [
    {
     "name": "stderr",
     "output_type": "stream",
     "text": [
      "C:\\Users\\Jamald Aquino\\anaconda3\\envs\\learn-env\\lib\\site-packages\\seaborn\\_decorators.py:36: FutureWarning: Pass the following variable as a keyword arg: x. From version 0.12, the only valid positional argument will be `data`, and passing other arguments without an explicit keyword will result in an error or misinterpretation.\n",
      "  warnings.warn(\n"
     ]
    },
    {
     "data": {
      "text/plain": [
       "Text(0.5, 0, 'Production Budgets (US$)')"
      ]
     },
     "execution_count": 29,
     "metadata": {},
     "output_type": "execute_result"
    },
    {
     "data": {
      "image/png": "[encoded data removed]",
      "text/plain": [
       "<Figure size 720x288 with 1 Axes>"
      ]
     },
     "metadata": {},
     "output_type": "display_data"
    }
   ],
   "source": [
    "sns.set_style(\"whitegrid\")\n",
    "plt.figure(figsize=(10,4))\n",
    "sns.boxplot(merged_ROI_df['production_budget'],showfliers=False)\n",
    "sns.swarmplot(x =merged_ROI_df['production_budget'],linewidth=1,color='black',size=7) \n",
    "plt.title('Production Budgets of the Top 50 Films with Highest Return of Investment', fontsize=20)\n",
    "plt.xlabel('Production Budgets (US$)', fontsize=12)"
   ]
  },
  {
   "cell_type": "markdown",
   "metadata": {},
   "source": [
    "Next, we will analyze which genre/s appears the most out of the top 50 films with highest return of investment. Some films are labelled in multiple categories, allowing some creative freedom in choosing genres. We will make a dictionary out of the genres against the count of them reappearing in merged_ROI_df['genre_labels']."
   ]
  },
  {
   "cell_type": "code",
   "execution_count": 30,
   "metadata": {},
   "outputs": [],
   "source": [
    "#Making lists to \n",
    "genre_labels_list =[\"Action\", \"Adventure\", \"Animation\", \"Comedy\", \"Crime\", \"Documentary\", \"Drama\", \"Family\", \"Fantasy\",\n",
    "    \"History\", \"Horror\",\"Music\",\"Mystery\",\"Romance\",\"Science Fiction\",\"TV Movie\",\"Thriller\",\"War\",\"Western\"]\n",
    "genre_occurrence = [merged_ROI_df['genre_labels'].str.count(\"Action\").sum(),\n",
    "    merged_ROI_df['genre_labels'].str.count(\"Adventure\").sum(), \n",
    "    merged_ROI_df['genre_labels'].str.count(\"Animation\").sum(),merged_ROI_df['genre_labels'].str.count(\"Comedy\").sum(),\n",
    "    merged_ROI_df['genre_labels'].str.count(\"Crime\").sum(),merged_ROI_df['genre_labels'].str.count(\"Documentary\").sum(),\n",
    "    merged_ROI_df['genre_labels'].str.count(\"Drama\").sum(),merged_ROI_df['genre_labels'].str.count(\"Family\").sum(),\n",
    "    merged_ROI_df['genre_labels'].str.count(\"Fantasy\").sum(),merged_ROI_df['genre_labels'].str.count(\"History\").sum(),\n",
    "    merged_ROI_df['genre_labels'].str.count(\"Horror\").sum(), merged_ROI_df['genre_labels'].str.count(\"Music\").sum(),\n",
    "    merged_ROI_df['genre_labels'].str.count(\"Mystery\").sum(), merged_ROI_df['genre_labels'].str.count(\"Romance\").sum(),\n",
    "    merged_ROI_df['genre_labels'].str.count(\"Science Fiction\").sum(),\n",
    "    merged_ROI_df['genre_labels'].str.count(\"TV Movie\").sum(), merged_ROI_df['genre_labels'].str.count(\"Thriller\").sum(),\n",
    "    merged_ROI_df['genre_labels'].str.count(\"War\").sum(), merged_ROI_df['genre_labels'].str.count(\"Western\").sum()]"
   ]
  },
  {
   "cell_type": "markdown",
   "metadata": {},
   "source": [
    "According to the data, the most lucrative genres that generate the highest return of investment are 'Horror', 'Thriller,' and 'Drama.'"
   ]
  },
  {
   "cell_type": "code",
   "execution_count": 31,
   "metadata": {
    "scrolled": false
   },
   "outputs": [
    {
     "data": {
      "image/png": "[encoded data removed]",
      "text/plain": [
       "<Figure size 720x360 with 1 Axes>"
      ]
     },
     "metadata": {},
     "output_type": "display_data"
    }
   ],
   "source": [
    "genre_occurrence_dict = dict(zip(genre_labels_list,genre_occurrence))\n",
    "sorted_genre_occurrence_dict = dict(sorted(genre_occurrence_dict.items(), key=lambda item:item[1], \n",
    "reverse=True))\n",
    "sns.set()\n",
    "plt.figure(figsize=(10,5))\n",
    "plt.bar(list(sorted_genre_occurrence_dict.keys()), sorted_genre_occurrence_dict.values(), \n",
    "         color = ['r','g','b','y','m','c','k'])\n",
    "\n",
    "plt.title(\"Genres that Generate the Highest Rate of Return by Percentage\", fontsize=15)\n",
    "plt.xticks(color = 'black',rotation = 45, horizontalalignment = 'right')\n",
    "plt.yticks(color = 'blue')\n",
    "plt.xlabel('Genres', color = 'black', fontweight = 'bold', fontsize = '12')\n",
    "plt.ylabel('Occurrences', color = 'black', fontweight = 'bold', fontsize = '12')\n",
    "plt.show()"
   ]
  },
  {
   "cell_type": "markdown",
   "metadata": {},
   "source": [
    "Next, we'll check for the best month to release a film. We will do this by counting the months that each top fifty film has been released.\n",
    "According to the data, the months of July, October or March are the best months for successful films."
   ]
  },
  {
   "cell_type": "code",
   "execution_count": 32,
   "metadata": {
    "scrolled": true
   },
   "outputs": [
    {
     "data": {
      "image/png": "[encoded data removed]",
      "text/plain": [
       "<Figure size 504x432 with 1 Axes>"
      ]
     },
     "metadata": {},
     "output_type": "display_data"
    }
   ],
   "source": [
    "sns.set(font_scale=1.4)\n",
    "merged_ROI_df['release_date'].dt.month_name().value_counts().plot(kind='barh', figsize=(7, 6), rot=0,color = ['r','g','b','y','m','c','k'])\n",
    "plt.xlabel(\"Occurrences\", labelpad=14)\n",
    "plt.ylabel(\"Months\", labelpad=14)\n",
    "plt.title(\"Best Month to release a Movie\", y=1.02);"
   ]
  },
  {
   "cell_type": "markdown",
   "metadata": {},
   "source": [
    "## Conclusions"
   ]
  },
  {
   "cell_type": "markdown",
   "metadata": {},
   "source": [
    "This analysis concludes to three recommended results for Microsoft to become successful in the film industry and create a hit at the box office:           \n",
    "           -__Set a production budget of between 3.5 million dollars and 12 million dollars__, in favor of a higher budget on the range.              \n",
    "  -__Select the genre of the movie to be among 'Horror,' 'Thriller,' or 'Drama.'__ Some films fit more than one genre, giving      more creative freedom.                  \n",
    "          -__Release the film during the months of July, October, or March,__ with July being the most advantageous month of the three."
   ]
  },
  {
   "cell_type": "markdown",
   "metadata": {},
   "source": [
    "###### Next Steps:"
   ]
  },
  {
   "cell_type": "markdown",
   "metadata": {},
   "source": [
    "-__Consider what movie rating(G, PG, PG-13, R, or NC-17) is best for the film.__ A lower movie rating could incentivize more people to see the film.               \n",
    "-__Consider releasing films on streaming services.__ More and more major studios are releasing their films on their respective streaming services."
   ]
  },
  {
   "cell_type": "code",
   "execution_count": null,
   "metadata": {},
   "outputs": [],
   "source": []
  }
 ],
 "metadata": {
  "kernelspec": {
   "display_name": "Python 3",
   "language": "python",
   "name": "python3"
  },
  "language_info": {
   "codemirror_mode": {
    "name": "ipython",
    "version": 3
   },
   "file_extension": ".py",
   "mimetype": "text/x-python",
   "name": "python",
   "nbconvert_exporter": "python",
   "pygments_lexer": "ipython3",
   "version": "3.8.5"
  }
 },
 "nbformat": 4,
 "nbformat_minor": 2
}
